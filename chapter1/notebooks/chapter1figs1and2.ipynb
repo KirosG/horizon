{
 "cells": [
  {
   "cell_type": "markdown",
   "metadata": {},
   "source": [
    "# Chapter 1, figures 1 and 2\n",
    "\n",
    "The notebooks included in this repository are intended to show you how raw data was transformed into a particular table or graph.\n",
    "\n",
    "The graphs may not look exactly like the published versions, because those were created in a different language (R). But they should be substantively equivalent."
   ]
  },
  {
   "cell_type": "markdown",
   "metadata": {},
   "source": [
    "## Figure 1.1\n",
    "\n",
    "Graphing the frequency of color vocabulary in a subset of volumes.\n",
    "\n",
    "The list of words we count as \"color words\" is contained in ```colors.txt.``` The list of volumes to be plotted is contained in ```prestigeset.csv```. That file actually contains a range of volumes, not all of which are particularly prestigious! Its name comes from the fact that it does record, in one column, *whether* the volume was included in a list of prestigious/reviewed volumes. (For more on the source of that list, see chapter 3)."
   ]
  },
  {
   "cell_type": "markdown",
   "metadata": {},
   "source": [
    "#### Counting the frequency of color words\n",
    "\n",
    "The code below counts words and creates a data file, ```colorfic.csv```."
   ]
  },
  {
   "cell_type": "code",
   "execution_count": 1,
   "metadata": {
    "collapsed": false
   },
   "outputs": [],
   "source": [
    "#!/usr/bin/env python3\n",
    "\n",
    "import csv, os, sys\n",
    "from collections import Counter\n",
    "\n",
    "# import utils\n",
    "sys.path.append('../../lib')\n",
    "\n",
    "import SonicScrewdriver as utils\n",
    "import FileCabinet as filecab\n",
    "\n",
    "# start by loading the hard seeds\n",
    "\n",
    "colors = set()\n",
    "\n",
    "with open('../lexicons/colors.txt', encoding = 'utf-8') as f:\n",
    "    for line in f:\n",
    "        colors.add(line.strip())\n",
    "\n",
    "logistic = dict()\n",
    "realclass = dict()\n",
    "titles = dict()\n",
    "dates = dict()\n",
    "\n",
    "with open('../metadata/prestigeset.csv', encoding = 'utf-8') as f:\n",
    "    reader = csv.DictReader(f)\n",
    "    for row in reader:\n",
    "        logistic[row['volid']] = float(row['logistic'])\n",
    "        realclass[row['volid']] = row['prestige']\n",
    "        titles[row['volid']] = row['title']\n",
    "        dates[row['volid']] = int(row['dateused'])\n",
    "\n",
    "sourcedir = '../sourcefiles/'\n",
    "documents = filecab.get_wordcounts(sourcedir, '.tsv', set(logistic))\n",
    "\n",
    "outrows = []\n",
    "\n",
    "for docid, doc in documents.items():\n",
    "    if docid not in logistic:\n",
    "        continue\n",
    "    else:\n",
    "        allwords = 1\n",
    "        colorct = 0\n",
    "\n",
    "        for word, count in doc.items():\n",
    "            allwords += count\n",
    "            if word in colors:\n",
    "                colorct += count\n",
    "\n",
    "        outline = [docid, realclass[docid], logistic[docid], (colorct/allwords), dates[docid], titles[docid]]\n",
    "        outrows.append(outline)\n",
    "\n",
    "fields = ['docid', 'class', 'logistic', 'colors', 'date', 'title']\n",
    "with open('../plotdata/colorfic.csv', mode = 'w', encoding = 'utf-8') as f:\n",
    "    writer = csv.writer(f)\n",
    "    writer.writerow(fields)\n",
    "    for row in outrows:\n",
    "        writer.writerow(row)"
   ]
  },
  {
   "cell_type": "markdown",
   "metadata": {},
   "source": [
    "#### Loading the data we just created as a data frame\n",
    "\n",
    "It would have been more elegant to create a data frame in memory, instead of writing the data to file as an intermediary step, and then reading it back in.\n",
    "\n",
    "But that's not how I originally wrote the process, and rewriting several years of code for pure elegance would be a bit extravagant. So having written the data out, let's read it back in."
   ]
  },
  {
   "cell_type": "code",
   "execution_count": 2,
   "metadata": {
    "collapsed": true
   },
   "outputs": [],
   "source": [
    "import pandas as pd\n",
    "import numpy as np\n",
    "from matplotlib import pyplot as plt\n",
    "%matplotlib inline"
   ]
  },
  {
   "cell_type": "markdown",
   "metadata": {},
   "source": [
    "We can take a look at what is actually in the data frame."
   ]
  },
  {
   "cell_type": "code",
   "execution_count": 3,
   "metadata": {
    "collapsed": false
   },
   "outputs": [
    {
     "data": {
      "text/html": [
       "<div>\n",
       "<table border=\"1\" class=\"dataframe\">\n",
       "  <thead>\n",
       "    <tr style=\"text-align: right;\">\n",
       "      <th></th>\n",
       "      <th>docid</th>\n",
       "      <th>class</th>\n",
       "      <th>logistic</th>\n",
       "      <th>colors</th>\n",
       "      <th>date</th>\n",
       "      <th>title</th>\n",
       "    </tr>\n",
       "  </thead>\n",
       "  <tbody>\n",
       "    <tr>\n",
       "      <th>0</th>\n",
       "      <td>uc2.ark+=13960=t1ng4nw76</td>\n",
       "      <td>0</td>\n",
       "      <td>0.655477</td>\n",
       "      <td>0.000689</td>\n",
       "      <td>1824</td>\n",
       "      <td>Rothelan;</td>\n",
       "    </tr>\n",
       "    <tr>\n",
       "      <th>1</th>\n",
       "      <td>mdp.39015008800537</td>\n",
       "      <td>0</td>\n",
       "      <td>0.605308</td>\n",
       "      <td>0.000270</td>\n",
       "      <td>1766</td>\n",
       "      <td>Letters, written</td>\n",
       "    </tr>\n",
       "    <tr>\n",
       "      <th>2</th>\n",
       "      <td>uiuo.ark+=13960=t4cn7c75m</td>\n",
       "      <td>0</td>\n",
       "      <td>0.584766</td>\n",
       "      <td>0.000428</td>\n",
       "      <td>1815</td>\n",
       "      <td>The royal wanderer, or, The exile of England</td>\n",
       "    </tr>\n",
       "    <tr>\n",
       "      <th>3</th>\n",
       "      <td>njp.32101074629229</td>\n",
       "      <td>0</td>\n",
       "      <td>0.715176</td>\n",
       "      <td>0.000158</td>\n",
       "      <td>1745</td>\n",
       "      <td>Les amusemens de Spa, or The gallantries of th...</td>\n",
       "    </tr>\n",
       "    <tr>\n",
       "      <th>4</th>\n",
       "      <td>loc.ark+=13960=t6154rd2f</td>\n",
       "      <td>0</td>\n",
       "      <td>0.580221</td>\n",
       "      <td>0.001254</td>\n",
       "      <td>1842</td>\n",
       "      <td>Sketches of Newport and its vicinity;</td>\n",
       "    </tr>\n",
       "  </tbody>\n",
       "</table>\n",
       "</div>"
      ],
      "text/plain": [
       "                       docid  class  logistic    colors  date  \\\n",
       "0   uc2.ark+=13960=t1ng4nw76      0  0.655477  0.000689  1824   \n",
       "1         mdp.39015008800537      0  0.605308  0.000270  1766   \n",
       "2  uiuo.ark+=13960=t4cn7c75m      0  0.584766  0.000428  1815   \n",
       "3         njp.32101074629229      0  0.715176  0.000158  1745   \n",
       "4   loc.ark+=13960=t6154rd2f      0  0.580221  0.001254  1842   \n",
       "\n",
       "                                               title  \n",
       "0                                          Rothelan;  \n",
       "1                                   Letters, written  \n",
       "2       The royal wanderer, or, The exile of England  \n",
       "3  Les amusemens de Spa, or The gallantries of th...  \n",
       "4              Sketches of Newport and its vicinity;  "
      ]
     },
     "execution_count": 3,
     "metadata": {},
     "output_type": "execute_result"
    }
   ],
   "source": [
    "color_df = pd.read_csv('../plotdata/colorfic.csv')\n",
    "color_df.head()"
   ]
  },
  {
   "cell_type": "markdown",
   "metadata": {},
   "source": [
    "#### Visualizing the data\n",
    "\n",
    "I'll use color to distinguish reviewed volumes from those not marked as reviewed in elite journals. (We don't actually know that they *weren't* ever reviewed.)"
   ]
  },
  {
   "cell_type": "code",
   "execution_count": 4,
   "metadata": {
    "collapsed": false
   },
   "outputs": [
    {
     "data": {
      "image/png": "[encoded data removed]",
      "text/plain": [
       "<matplotlib.figure.Figure at 0x123e8a4e0>"
      ]
     },
     "metadata": {},
     "output_type": "display_data"
    }
   ],
   "source": [
    "groups = color_df.groupby('class')\n",
    "groupnames = {0: 'unmarked', 1: 'reviewed'}\n",
    "groupcolors = {0: 'k', 1: 'r'}\n",
    "fig, ax = plt.subplots(figsize = (9, 9))\n",
    "\n",
    "ax.margins(0.05)\n",
    "for code, group in groups:\n",
    "    ax.plot(group.date, group.colors, marker='o', linestyle='', ms=6, color = groupcolors[code], label=groupnames[code])\n",
    "ax.legend(numpoints = 1, loc = 'upper left')\n",
    "\n",
    "plt.show()"
   ]
  },
  {
   "cell_type": "markdown",
   "metadata": {},
   "source": [
    "#### other analysis, not in the book\n",
    "\n",
    "Is there any difference between the frequency of color words in reviewed volumes and others? Let's focus on the volumes after 1800."
   ]
  },
  {
   "cell_type": "code",
   "execution_count": 5,
   "metadata": {
    "collapsed": false
   },
   "outputs": [
    {
     "data": {
      "text/html": [
       "<div>\n",
       "<table border=\"1\" class=\"dataframe\">\n",
       "  <thead>\n",
       "    <tr style=\"text-align: right;\">\n",
       "      <th></th>\n",
       "      <th>logistic</th>\n",
       "      <th>colors</th>\n",
       "      <th>date</th>\n",
       "    </tr>\n",
       "    <tr>\n",
       "      <th>class</th>\n",
       "      <th></th>\n",
       "      <th></th>\n",
       "      <th></th>\n",
       "    </tr>\n",
       "  </thead>\n",
       "  <tbody>\n",
       "    <tr>\n",
       "      <th>0</th>\n",
       "      <td>0.764169</td>\n",
       "      <td>0.001441</td>\n",
       "      <td>1865.076336</td>\n",
       "    </tr>\n",
       "    <tr>\n",
       "      <th>1</th>\n",
       "      <td>0.783950</td>\n",
       "      <td>0.001564</td>\n",
       "      <td>1870.368421</td>\n",
       "    </tr>\n",
       "  </tbody>\n",
       "</table>\n",
       "</div>"
      ],
      "text/plain": [
       "       logistic    colors         date\n",
       "class                                 \n",
       "0      0.764169  0.001441  1865.076336\n",
       "1      0.783950  0.001564  1870.368421"
      ]
     },
     "execution_count": 5,
     "metadata": {},
     "output_type": "execute_result"
    }
   ],
   "source": [
    "post1800 = color_df[color_df.date > 1800]\n",
    "groups = post1800.groupby('class')\n",
    "groups.aggregate(np.mean)"
   ]
  },
  {
   "cell_type": "markdown",
   "metadata": {},
   "source": [
    "I guess there is a really slight difference in the \"colors\" column. Reviewed works refer to colors a little more often. (Ignore the \"logistic\" column for now, it's inherited from a different process.) But is the difference in frequency of color words significant?"
   ]
  },
  {
   "cell_type": "code",
   "execution_count": 6,
   "metadata": {
    "collapsed": false
   },
   "outputs": [
    {
     "data": {
      "text/plain": [
       "Ttest_indResult(statistic=0.68968816275016209, pvalue=0.49146510616036876)"
      ]
     },
     "execution_count": 6,
     "metadata": {},
     "output_type": "execute_result"
    }
   ],
   "source": [
    "from scipy.stats import ttest_ind\n",
    "ttest_ind(color_df[color_df['class'] == 1].colors, color_df[(color_df['class'] == 0) & (color_df['date'] > 1800)].colors, equal_var = False)"
   ]
  },
  {
   "cell_type": "markdown",
   "metadata": {},
   "source": [
    "No. That's not a significant result; there doesn't seem to be any meaningful difference between reviewed and unreviewed books, at least not at this scale of analysis."
   ]
  },
  {
   "cell_type": "markdown",
   "metadata": {},
   "source": [
    "## Figure 1.2\n",
    "\n",
    "Now let's calculate the frequency of Stanford \"hard seeds\" in biography and fiction, aggregating by year.\n",
    "\n",
    "#### count the \"hard seeds\""
   ]
  },
  {
   "cell_type": "code",
   "execution_count": 9,
   "metadata": {
    "collapsed": false
   },
   "outputs": [],
   "source": [
    "stanford = set()\n",
    "\n",
    "with open('../lexicons/stanford.csv', encoding = 'utf-8') as f:\n",
    "    reader = csv.DictReader(f)\n",
    "    for row in reader:\n",
    "        if row['class'] == 'hard':\n",
    "            stanford.add(row['word'])\n",
    "\n",
    "sourcedir = '../sourcefiles/'\n",
    "\n",
    "pairedpaths = filecab.get_pairedpaths(sourcedir, '.tsv')\n",
    "\n",
    "docids = [x[0] for x in pairedpaths]\n",
    "\n",
    "wordcounts = filecab.get_wordcounts(sourcedir, '.tsv', docids)\n",
    "\n",
    "metapath = '../metadata/allgenremeta.csv'\n",
    "\n",
    "genredict = dict()\n",
    "datedict = dict()\n",
    "with open(metapath, encoding = 'utf-8') as f:\n",
    "    reader = csv.DictReader(f)\n",
    "    for row in reader:\n",
    "        date = int(row['firstpub'])\n",
    "        genre = row['tags']\n",
    "        docid = row['docid']\n",
    "        if date not in datedict:\n",
    "            datedict[date] = []\n",
    "        datedict[date].append(docid)\n",
    "        genredict[docid] = genre\n",
    "\n",
    "possible_genres = {'fic', 'bio'}\n",
    "allcounts = dict()\n",
    "hardseedcounts = dict()\n",
    "for genre in possible_genres:\n",
    "    allcounts[genre] = Counter()\n",
    "    hardseedcounts[genre] = Counter()\n",
    "\n",
    "for i in range(1700,2000):\n",
    "    if i in datedict:\n",
    "        candidates = datedict[i]\n",
    "        for anid in candidates:\n",
    "            genre = genredict[anid]\n",
    "            if genre not in possible_genres:\n",
    "                continue\n",
    "            if anid not in wordcounts:\n",
    "                print('error')\n",
    "                continue\n",
    "            else:\n",
    "                for word, count in wordcounts[anid].items():\n",
    "                    allcounts[genre][i] += count\n",
    "                    if word in stanford:\n",
    "                        hardseedcounts[genre][i] += count\n",
    "\n",
    "with open('../plotdata/hardaverages.csv', mode = 'w', encoding = 'utf-8') as f:\n",
    "    f.write('genre,year,hardpct\\n')\n",
    "    for genre in possible_genres:\n",
    "        for i in range(1700,2000):\n",
    "            if i in allcounts[genre]:\n",
    "                pct = hardseedcounts[genre][i] / (allcounts[genre][i] + 1)\n",
    "                f.write(genre + ',' + str(i) + ',' + str(pct) + '\\n')\n",
    "\n"
   ]
  },
  {
   "cell_type": "markdown",
   "metadata": {},
   "source": [
    "#### look at the data we created"
   ]
  },
  {
   "cell_type": "code",
   "execution_count": 10,
   "metadata": {
    "collapsed": false
   },
   "outputs": [
    {
     "data": {
      "text/html": [
       "<div>\n",
       "<table border=\"1\" class=\"dataframe\">\n",
       "  <thead>\n",
       "    <tr style=\"text-align: right;\">\n",
       "      <th></th>\n",
       "      <th>genre</th>\n",
       "      <th>year</th>\n",
       "      <th>hardpct</th>\n",
       "    </tr>\n",
       "  </thead>\n",
       "  <tbody>\n",
       "    <tr>\n",
       "      <th>0</th>\n",
       "      <td>fic</td>\n",
       "      <td>1702</td>\n",
       "      <td>0.037914</td>\n",
       "    </tr>\n",
       "    <tr>\n",
       "      <th>1</th>\n",
       "      <td>fic</td>\n",
       "      <td>1703</td>\n",
       "      <td>0.027492</td>\n",
       "    </tr>\n",
       "    <tr>\n",
       "      <th>2</th>\n",
       "      <td>fic</td>\n",
       "      <td>1706</td>\n",
       "      <td>0.025752</td>\n",
       "    </tr>\n",
       "    <tr>\n",
       "      <th>3</th>\n",
       "      <td>fic</td>\n",
       "      <td>1708</td>\n",
       "      <td>0.032224</td>\n",
       "    </tr>\n",
       "    <tr>\n",
       "      <th>4</th>\n",
       "      <td>fic</td>\n",
       "      <td>1709</td>\n",
       "      <td>0.025049</td>\n",
       "    </tr>\n",
       "  </tbody>\n",
       "</table>\n",
       "</div>"
      ],
      "text/plain": [
       "  genre  year   hardpct\n",
       "0   fic  1702  0.037914\n",
       "1   fic  1703  0.027492\n",
       "2   fic  1706  0.025752\n",
       "3   fic  1708  0.032224\n",
       "4   fic  1709  0.025049"
      ]
     },
     "execution_count": 10,
     "metadata": {},
     "output_type": "execute_result"
    }
   ],
   "source": [
    "hard_df = pd.read_csv('../plotdata/hardaverages.csv')\n",
    "hard_df.head()"
   ]
  },
  {
   "cell_type": "markdown",
   "metadata": {},
   "source": [
    "#### now plot the yearly averages for biography and fiction\n"
   ]
  },
  {
   "cell_type": "code",
   "execution_count": 11,
   "metadata": {
    "collapsed": false
   },
   "outputs": [
    {
     "data": {
      "image/png": "[encoded data removed]",
      "text/plain": [
       "<matplotlib.figure.Figure at 0x1239f1940>"
      ]
     },
     "metadata": {},
     "output_type": "display_data"
    }
   ],
   "source": [
    "groups = hard_df.groupby('genre')\n",
    "groupcolors = {'bio': 'k', 'fic': 'r', 'poe': 'g'}\n",
    "fig, ax = plt.subplots(figsize = (9, 9))\n",
    "\n",
    "ax.margins(0.05)\n",
    "for code, group in groups:\n",
    "    if code == 'poe':\n",
    "        continue\n",
    "    ax.plot(group.year, group.hardpct, marker='o', linestyle='', ms=6, color = groupcolors[code], label=code)\n",
    "ax.legend(numpoints = 1, loc = 'upper left')\n",
    "\n",
    "plt.show()"
   ]
  }
 ],
 "metadata": {
  "kernelspec": {
   "display_name": "Python 3",
   "language": "python",
   "name": "python3"
  },
  "language_info": {
   "codemirror_mode": {
    "name": "ipython",
    "version": 3
   },
   "file_extension": ".py",
   "mimetype": "text/x-python",
   "name": "python",
   "nbconvert_exporter": "python",
   "pygments_lexer": "ipython3",
   "version": "3.5.2"
  }
 },
 "nbformat": 4,
 "nbformat_minor": 2
}
