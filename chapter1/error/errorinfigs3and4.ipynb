{
 "cells": [
  {
   "cell_type": "markdown",
   "metadata": {},
   "source": [
    "# Error and uncertainty in figures 1.3 and 1.4\n",
    "\n",
    "Assessing uncertainty in machine learning is not easy, but it can be done.\n",
    "\n",
    "#### random uncertainty\n",
    "The figures printed in the book provide some initial sense of variation; for instance in figure 1.3, I have repeated the modeling process 15 times on each slice of the timeline, taking 150 different volumes each time. There's a lot of random variation, but the change across the timeline (from 1700 to 2000) is clearly significant in spite of variation.\n",
    "\n",
    "#### systematic error\n",
    "However, random resampling doesn't get at deeper sources of uncertainty, related to error in the data itself. \n",
    "The differentiation of biography and fiction is one of the broadest, slowest changes I'll trace in this book, so I really needed three hundred years of literary history to cover it. That draws me deeper into the eighteenth century than usual, and eighteenth-century data can be fairly messy. So the data used here is some of the dirtiest data in the book, especially in the early going. We need to ask ourselves whether classifiers perform more poorly in the eighteenth century because of that underlying error in the data.\n",
    "\n",
    "Exploring all the ins and outs of that question would have weighed down a book that needs to be lively and brief. But I do want to explore the ins and outs, in order to assess the significance of potential problems. Thus, this notebook."
   ]
  },
  {
   "cell_type": "markdown",
   "metadata": {},
   "source": [
    "### Sources of error in the data\n",
    "\n",
    "There are several overlapping problems. One of the fundamental ones is that there's just not all that *much* fiction in the early eighteenth century. Getting hundreds of examples is not always straightforward; we're going to have lots of duplicates of a few works (Quixote, Crusoe).\n",
    "\n",
    "Less fundamental: OCR accuracy is low in the eighteenth century. This doesn't turn out to be a huge problem, but we'll need to confirm that.\n",
    "\n",
    "#### the biggest problem\n",
    "The biggest and deepest problem is that the boundary between fiction and biography is notoriously blurry, and especially so in the eighteenth century.\n",
    "\n",
    "In a sense, this is no problem at all for my thesis. It's a version of the conclusion I am aiming to test! I'm trying to show that fiction and biography are hard to separate, and then get easier. If my test failed because the categories were too hard to separate in the eighteenth century *even to run the test*, that would actually confirm my thesis. \n",
    "\n",
    "But I need to make sure that any uncertainty about ground truth is real uncertainty, and not just sloppiness. Genre information gets less certain as we go back in time, partly because genres really get blurrier, and partly because library records are worse: genres just weren't systematically recorded for everything before the middle of the twentieth century. So I'm going to need to somehow supplement library categorization.\n",
    "\n",
    "There are a number of ways to do that: machine learning, for instance, can work. But I can't use machine learning to construct a set of volumes whose coherence I want to test ... using machine learning! So I've used a mixture of existing genre metadata and suggestive title words (like \"memoirs,\" \"autobiography,\" \"a novel,\" etc) to construct this data set.\n",
    "\n",
    "That's a process that can create a lot of error. If you open ```hathigenremeta.csv``` and look for misclassified volumes, you will easily find dozens of them. The overall level of error is not enormous (roughly 8%). But error is unevenly distributed: the errors tend to be more common as we go back in time. That's very consequential for my thesis, because ground truth with more error could make genres harder to separate. I need to know that the differentiation of fiction and biography isn't purely a consequence of better ground truth.\n"
   ]
  },
  {
   "cell_type": "markdown",
   "metadata": {},
   "source": [
    "### Things that aren't error\n",
    "\n",
    "While assessing genuine problems, I also want to flag several aspects of the data that are definitional decisions, not errors. \n",
    "\n",
    "1. I'm using a very generous definition of \"biography,\" covering any nonfiction that foregrounds narratives about individual human lives. Memoirs, journals, travel writing, history focused on the lives of individuals, all fit.\n",
    "2. Also using a generous definition of fiction, not restricted to the novel. Short stories, folk tales, fictionalized \"sketches\" that aim to represent national or regional character, are all fair game.\n",
    "3. In this dataset, I have not tried to exclude books for young readers. (I have done so in other datasets, used in later chapters.)\n",
    "4. I don't care about precise titles; it makes no difference at all to the results.\n",
    "5. I have not excluded reprints. There are about ten copies of *Crusoe* in this data.\n",
    "6. The publication dates I'm using are dates of publication *for the volume,* not dates of first publication *for the work.* You will find a copy of *Crusoe* dated 1820, for instance. That's not an error; it's when the book was published.\n",
    "\n",
    "Several of the choices above will be different in subsequent chapters (e.g. chapters 2 and 3 try to exclude reprints and date volumes as close as possible to first publication.) Critics of distant reading sometimes argue that one of these approaches to dating is wrong and the other is right. But in point of fact, results very rarely stand or fall on the choice between them. Here, for instance, the effect of excluding reprints would be to make change-over-time look slightly more dramatic. I could do that, if I wanted to emphasize the magnitude of my result. But the result also comes through perfectly clearly in a dataset that includes reprints."
   ]
  },
  {
   "cell_type": "markdown",
   "metadata": {},
   "source": [
    "### Strategy of error assessment\n",
    "\n",
    "I manually corrected records covering three twenty-year periods:\n",
    "\n",
    "1. 1740-59\n",
    "2. 1840-59\n",
    "3. 1940-59\n",
    "\n",
    "Doing this allowed me first of all to measure the level of error itself, and see how much it changed over time. Secondly, and more importantly, it allowed me to see how much correcting the errors would change *the results reported by my classification algorithm.*\n",
    "\n",
    "Below I report the results of manual correction. **changebiovsfic** are cases where biography was changed to fiction, or vice-versa; these could clearly reduce the accuracy of the classifier. **toothergenre** is a case where bio or fic were changed to some other genre. For instance, \"fiction\" might really have been drama, or \"biography\" might have been some other kind of nonfiction. These errors also matter, although their effect is less clear, and they might even have increased accuracy (since, say, botany could be easier to distinguish from fiction than biography would be)."
   ]
  },
  {
   "cell_type": "code",
   "execution_count": 17,
   "metadata": {
    "collapsed": true
   },
   "outputs": [],
   "source": [
    "import csv, random\n",
    "import numpy as np\n",
    "import pandas as pd\n",
    "from matplotlib import pyplot as plt\n",
    "%matplotlib inline\n",
    "import warnings\n",
    "warnings.simplefilter('ignore')"
   ]
  },
  {
   "cell_type": "code",
   "execution_count": 3,
   "metadata": {
    "collapsed": false
   },
   "outputs": [
    {
     "data": {
      "text/html": [
       "<div>\n",
       "<table border=\"1\" class=\"dataframe\">\n",
       "  <thead>\n",
       "    <tr style=\"text-align: right;\">\n",
       "      <th></th>\n",
       "      <th>decade</th>\n",
       "      <th>category</th>\n",
       "      <th>changebiovsfic</th>\n",
       "      <th>toothergenre</th>\n",
       "      <th>totalerrors</th>\n",
       "      <th>totalvols</th>\n",
       "    </tr>\n",
       "  </thead>\n",
       "  <tbody>\n",
       "    <tr>\n",
       "      <th>0</th>\n",
       "      <td>1740</td>\n",
       "      <td>1740-59</td>\n",
       "      <td>6</td>\n",
       "      <td>5</td>\n",
       "      <td>11</td>\n",
       "      <td>99</td>\n",
       "    </tr>\n",
       "    <tr>\n",
       "      <th>1</th>\n",
       "      <td>1850</td>\n",
       "      <td>1840-59</td>\n",
       "      <td>5</td>\n",
       "      <td>6</td>\n",
       "      <td>11</td>\n",
       "      <td>131</td>\n",
       "    </tr>\n",
       "    <tr>\n",
       "      <th>2</th>\n",
       "      <td>1950</td>\n",
       "      <td>1940-59</td>\n",
       "      <td>0</td>\n",
       "      <td>4</td>\n",
       "      <td>4</td>\n",
       "      <td>139</td>\n",
       "    </tr>\n",
       "    <tr>\n",
       "      <th>3</th>\n",
       "      <td>1750</td>\n",
       "      <td>1740-59</td>\n",
       "      <td>13</td>\n",
       "      <td>13</td>\n",
       "      <td>26</td>\n",
       "      <td>146</td>\n",
       "    </tr>\n",
       "    <tr>\n",
       "      <th>4</th>\n",
       "      <td>1840</td>\n",
       "      <td>1840-59</td>\n",
       "      <td>4</td>\n",
       "      <td>6</td>\n",
       "      <td>10</td>\n",
       "      <td>132</td>\n",
       "    </tr>\n",
       "  </tbody>\n",
       "</table>\n",
       "</div>"
      ],
      "text/plain": [
       "   decade category  changebiovsfic  toothergenre  totalerrors  totalvols\n",
       "0    1740  1740-59               6             5           11         99\n",
       "1    1850  1840-59               5             6           11        131\n",
       "2    1950  1940-59               0             4            4        139\n",
       "3    1750  1740-59              13            13           26        146\n",
       "4    1840  1840-59               4             6           10        132"
      ]
     },
     "execution_count": 3,
     "metadata": {},
     "output_type": "execute_result"
    }
   ],
   "source": [
    "error = pd.read_csv('allgenremetaerrors.csv')\n",
    "error.head()"
   ]
  },
  {
   "cell_type": "markdown",
   "metadata": {},
   "source": [
    "I recorded error separately in each decade, but we want to sum into three groups:"
   ]
  },
  {
   "cell_type": "code",
   "execution_count": 6,
   "metadata": {
    "collapsed": false
   },
   "outputs": [
    {
     "data": {
      "text/html": [
       "<div>\n",
       "<table border=\"1\" class=\"dataframe\">\n",
       "  <thead>\n",
       "    <tr style=\"text-align: right;\">\n",
       "      <th></th>\n",
       "      <th>decade</th>\n",
       "      <th>changebiovsfic</th>\n",
       "      <th>toothergenre</th>\n",
       "      <th>totalerrors</th>\n",
       "      <th>totalvols</th>\n",
       "      <th>errorpct</th>\n",
       "    </tr>\n",
       "    <tr>\n",
       "      <th>category</th>\n",
       "      <th></th>\n",
       "      <th></th>\n",
       "      <th></th>\n",
       "      <th></th>\n",
       "      <th></th>\n",
       "      <th></th>\n",
       "    </tr>\n",
       "  </thead>\n",
       "  <tbody>\n",
       "    <tr>\n",
       "      <th>1740-59</th>\n",
       "      <td>3490</td>\n",
       "      <td>19</td>\n",
       "      <td>18</td>\n",
       "      <td>37</td>\n",
       "      <td>245</td>\n",
       "      <td>0.151020</td>\n",
       "    </tr>\n",
       "    <tr>\n",
       "      <th>1840-59</th>\n",
       "      <td>3690</td>\n",
       "      <td>9</td>\n",
       "      <td>12</td>\n",
       "      <td>21</td>\n",
       "      <td>263</td>\n",
       "      <td>0.079848</td>\n",
       "    </tr>\n",
       "    <tr>\n",
       "      <th>1940-59</th>\n",
       "      <td>3890</td>\n",
       "      <td>2</td>\n",
       "      <td>6</td>\n",
       "      <td>8</td>\n",
       "      <td>277</td>\n",
       "      <td>0.028881</td>\n",
       "    </tr>\n",
       "  </tbody>\n",
       "</table>\n",
       "</div>"
      ],
      "text/plain": [
       "          decade  changebiovsfic  toothergenre  totalerrors  totalvols  \\\n",
       "category                                                                 \n",
       "1740-59     3490              19            18           37        245   \n",
       "1840-59     3690               9            12           21        263   \n",
       "1940-59     3890               2             6            8        277   \n",
       "\n",
       "          errorpct  \n",
       "category            \n",
       "1740-59   0.151020  \n",
       "1840-59   0.079848  \n",
       "1940-59   0.028881  "
      ]
     },
     "execution_count": 6,
     "metadata": {},
     "output_type": "execute_result"
    }
   ],
   "source": [
    "groups = error.groupby('category')\n",
    "summed = groups.aggregate(np.sum)\n",
    "summed['errorpct'] = summed.totalerrors/summed.totalvols\n",
    "summed.head()"
   ]
  },
  {
   "cell_type": "markdown",
   "metadata": {},
   "source": [
    "#### assessment\n",
    "\n",
    "Error is clearly worse as we go back in time: this is a pattern that could be consequential for my thesis.\n",
    "\n",
    "To be fully statistically responsible, let's provide a picture of our uncertainty about error itself."
   ]
  },
  {
   "cell_type": "code",
   "execution_count": 18,
   "metadata": {
    "collapsed": false
   },
   "outputs": [
    {
     "data": {
      "image/png": "[encoded data removed]",
      "text/plain": [
       "<matplotlib.figure.Figure at 0x1188af2b0>"
      ]
     },
     "metadata": {},
     "output_type": "display_data"
    }
   ],
   "source": [
    "def resample(vector):\n",
    "    '''resamples a vector of ones and zeroes\n",
    "    and returns the count of ones'''\n",
    "\n",
    "    resample = np.random.choice(vector, len(vector))\n",
    "    return np.sum(resample) / len(resample)\n",
    "\n",
    "def uncertainty(vector):\n",
    "    ''' Returns 95% confidence bounds on \n",
    "    a bootstrap resampling.\n",
    "    '''\n",
    "    variations = []\n",
    "    for i in range (1000):\n",
    "        variations.append(resample(vector))\n",
    "    return np.percentile(variations, [2.5, 50, 97.5])\n",
    "\n",
    "lower_bounds = []\n",
    "recorded = []\n",
    "upper_bounds = []\n",
    "xvals = [1750, 1850, 1950]\n",
    "\n",
    "for category in summed.index:\n",
    "    total = summed.loc[category, 'totalvols']\n",
    "    errors = summed.loc[category, 'totalerrors']\n",
    "    vector = [1] * errors\n",
    "    vector.extend([0] * (total-errors))\n",
    "    bottom, middle, top = uncertainty(vector)\n",
    "    lower_bounds.append(bottom)\n",
    "    recorded.append(middle)\n",
    "    upper_bounds.append(top)\n",
    "\n",
    "fig, ax = plt.subplots(figsize = (7, 7))\n",
    "ax.margins(0.2)\n",
    "ax.errorbar(xvals, recorded, yerr = [lower_bounds, upper_bounds], fmt = 'o',\n",
    "           ecolor = 'g', capthick = 3, elinewidth = 2, capsize = 10)\n",
    "plt.show()\n",
    "        "
   ]
  },
  {
   "cell_type": "markdown",
   "metadata": {},
   "source": [
    "That's a significant amount of error, and a pattern of error that could be consequential, because it gets worse as you go back in time.\n",
    "\n",
    "It seemed necessary to manually correct a lot of data. So in addition to the three twenty-year periods described above (which I had corrected in the process of assessing error), I manually went through and tried to correct the bulk of the errors in the whole period 1700-1860. I don't promise to have solved all problems in the dataset; there's going to be some residue of error remaining. But I now believe the level of error is fairly constant across the timeline.\n",
    "\n",
    "Looking at the difference error-correction made, I feel some confidence that focusing on the period before 1860 was a good strategy."
   ]
  },
  {
   "cell_type": "code",
   "execution_count": 86,
   "metadata": {
    "collapsed": false
   },
   "outputs": [
    {
     "data": {
      "text/html": [
       "<div>\n",
       "<table border=\"1\" class=\"dataframe\">\n",
       "  <thead>\n",
       "    <tr style=\"text-align: right;\">\n",
       "      <th></th>\n",
       "      <th>center</th>\n",
       "      <th>accuracy</th>\n",
       "    </tr>\n",
       "  </thead>\n",
       "  <tbody>\n",
       "    <tr>\n",
       "      <th>0</th>\n",
       "      <td>1720</td>\n",
       "      <td>0.926667</td>\n",
       "    </tr>\n",
       "    <tr>\n",
       "      <th>1</th>\n",
       "      <td>1720</td>\n",
       "      <td>0.926667</td>\n",
       "    </tr>\n",
       "    <tr>\n",
       "      <th>2</th>\n",
       "      <td>1720</td>\n",
       "      <td>0.913333</td>\n",
       "    </tr>\n",
       "    <tr>\n",
       "      <th>3</th>\n",
       "      <td>1720</td>\n",
       "      <td>0.953333</td>\n",
       "    </tr>\n",
       "    <tr>\n",
       "      <th>4</th>\n",
       "      <td>1720</td>\n",
       "      <td>0.953333</td>\n",
       "    </tr>\n",
       "  </tbody>\n",
       "</table>\n",
       "</div>"
      ],
      "text/plain": [
       "   center  accuracy\n",
       "0    1720  0.926667\n",
       "1    1720  0.926667\n",
       "2    1720  0.913333\n",
       "3    1720  0.953333\n",
       "4    1720  0.953333"
      ]
     },
     "execution_count": 86,
     "metadata": {},
     "output_type": "execute_result"
    }
   ],
   "source": [
    "oldresults = pd.read_csv('../modeloutput/oldbiopredicts.csv')\n",
    "newresults = pd.read_csv('../modeloutput/finalbiopredicts.csv')\n",
    "newresults.head()"
   ]
  },
  {
   "cell_type": "code",
   "execution_count": 88,
   "metadata": {
    "collapsed": false
   },
   "outputs": [
    {
     "data": {
      "image/png": "[encoded data removed]",
      "text/plain": [
       "<matplotlib.figure.Figure at 0x120576dd8>"
      ]
     },
     "metadata": {},
     "output_type": "display_data"
    }
   ],
   "source": [
    "oldgroups = oldresults.groupby('center')\n",
    "old = oldgroups.aggregate(np.mean)\n",
    "newgroups = newresults.groupby('center')\n",
    "new = newgroups.aggregate(np.median)\n",
    "fig, ax = plt.subplots(figsize = (9, 9))\n",
    "plt.plot(old.index, old.accuracy)\n",
    "plt.plot(new.index, new.accuracy)\n",
    "x = [1750, 1850, 1950]\n",
    "y = []\n",
    "centered_x = []\n",
    "for x1 in x:\n",
    "    y.append(new.loc[x1, 'accuracy'])\n",
    "    centered_x.append(x1)\n",
    "plt.scatter(centered_x, y, c = 'r')\n",
    "\n",
    "plt.show()"
   ]
  },
  {
   "cell_type": "markdown",
   "metadata": {},
   "source": [
    "#### assessment\n",
    "\n",
    "The green line above is the evidence actually used in the book. The blue line is the evidence before cleaning. The periods I corrected while measuring error are marked with red dots.\n",
    "\n",
    "You can see that the cleaning made a big difference in 1740-60, but relatively little in 1840-60 or 1940-60. You can also see that error correction in the period 1700-1860 has tended to shift up the green line (and straighten it to some extent).\n",
    "\n",
    "There may be some error remaining across the dataset, but I feel fairly confident that I hit the bulk of the errors before 1860. Further correction would have diminishing returns, and given the relatively modest scale of the change between the blue line and the green one, I feel confident that diminishing returns are not going to erase the rising slope of the green line. So I feel confident in saying that classifiers get more accurate across the timeline (at least up to 1920 or so) -- suggesting a pattern of generic differentiation."
   ]
  },
  {
   "cell_type": "markdown",
   "metadata": {},
   "source": [
    "### Could this result be a mistake, caused by bad eighteenth-century OCR?\n",
    "\n",
    "Perhaps inaccurate transcriptions in the 18c could be making volumes harder to classify?\n",
    "\n",
    "While this might seem intuitively plausible, my experience has been that OCR quality makes little difference to predictive classification. The classifier doesn't care about correct spelling. As long as volumes are distorted in roughly similar ways, a classifier can still recognize internal differences and similarities in a misspelled corpus.\n",
    "\n",
    "But don't take my word for that. We can test the thesis by running biography vs. fiction classification on a set of 18c volumes that were manually transcribed by TCP-ECCO. These should have almost no transcription errors. However, accuracy is by no means higher."
   ]
  },
  {
   "cell_type": "code",
   "execution_count": 78,
   "metadata": {
    "collapsed": false
   },
   "outputs": [
    {
     "data": {
      "text/html": [
       "<div>\n",
       "<table border=\"1\" class=\"dataframe\">\n",
       "  <thead>\n",
       "    <tr style=\"text-align: right;\">\n",
       "      <th></th>\n",
       "      <th>center</th>\n",
       "      <th>accuracy</th>\n",
       "    </tr>\n",
       "  </thead>\n",
       "  <tbody>\n",
       "    <tr>\n",
       "      <th>0</th>\n",
       "      <td>1720</td>\n",
       "      <td>0.940000</td>\n",
       "    </tr>\n",
       "    <tr>\n",
       "      <th>1</th>\n",
       "      <td>1720</td>\n",
       "      <td>0.913333</td>\n",
       "    </tr>\n",
       "    <tr>\n",
       "      <th>2</th>\n",
       "      <td>1720</td>\n",
       "      <td>0.946667</td>\n",
       "    </tr>\n",
       "    <tr>\n",
       "      <th>3</th>\n",
       "      <td>1720</td>\n",
       "      <td>0.940000</td>\n",
       "    </tr>\n",
       "    <tr>\n",
       "      <th>4</th>\n",
       "      <td>1720</td>\n",
       "      <td>0.933333</td>\n",
       "    </tr>\n",
       "  </tbody>\n",
       "</table>\n",
       "</div>"
      ],
      "text/plain": [
       "   center  accuracy\n",
       "0    1720  0.940000\n",
       "1    1720  0.913333\n",
       "2    1720  0.946667\n",
       "3    1720  0.940000\n",
       "4    1720  0.933333"
      ]
     },
     "execution_count": 78,
     "metadata": {},
     "output_type": "execute_result"
    }
   ],
   "source": [
    "ecco_df = pd.read_csv('../modeloutput/eccopredicts.csv')\n",
    "hathi_df = pd.read_csv('../modeloutput/finalbiopredicts.csv')\n",
    "hathi_df.head()"
   ]
  },
  {
   "cell_type": "code",
   "execution_count": 80,
   "metadata": {
    "collapsed": false
   },
   "outputs": [
    {
     "name": "stdout",
     "output_type": "stream",
     "text": [
      "Average accuracy on TCP-ECCO volumes (1700-1800): 0.826666666667\n",
      "Average accuracy on Hathi volumes (1702-1800): 0.92511111111\n"
     ]
    }
   ],
   "source": [
    "eccoaverage = sum(ecco_df.accuracy) / len(ecco_df.accuracy)\n",
    "print('Average accuracy on TCP-ECCO volumes (1700-1800): ' + str(eccoaverage))\n",
    "\n",
    "hathiaverage = (sum(hathi_df[hathi_df.center < 1800].accuracy) / len(hathi_df[hathi_df.center < 1800].accuracy))\n",
    "print('Average accuracy on Hathi volumes (1702-1800): '+ str(hathiaverage))"
   ]
  },
  {
   "cell_type": "markdown",
   "metadata": {},
   "source": [
    "#### assessment\n",
    "\n",
    "The OCR for Hathi volumes is much worse than manual transcription for ECCO. But accuracy is higher for Hathi. Probably what matters is that the Hathi volumes are longer, and more likely to be novels: ECCO has a lot of pamphlets that are hard to classify as satire, biography, or fiction. In any case we don't have a lot of evidence that OCR is a limiting factor on accuracy."
   ]
  }
 ],
 "metadata": {
  "kernelspec": {
   "display_name": "Python 3",
   "language": "python",
   "name": "python3"
  },
  "language_info": {
   "codemirror_mode": {
    "name": "ipython",
    "version": 3
   },
   "file_extension": ".py",
   "mimetype": "text/x-python",
   "name": "python",
   "nbconvert_exporter": "python",
   "pygments_lexer": "ipython3",
   "version": "3.5.2"
  }
 },
 "nbformat": 4,
 "nbformat_minor": 2
}
